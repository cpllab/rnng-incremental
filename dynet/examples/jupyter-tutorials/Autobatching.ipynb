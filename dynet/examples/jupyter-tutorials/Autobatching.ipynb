{
 "cells": [
  {
   "cell_type": "markdown",
   "metadata": {},
   "source": [
    "# DyNet Autobatch\n",
    "\n",
    "## Friends don't let friends write batching code\n",
    "\n",
    "Modern hardware processors (CPUs and GPUs) can use parallelism to a great extent.\n",
    "So batching is good for speed. But it is so annoying to write batching code for RNNs or more complex architectures. You must take care of padding, and masking, and indexing, and that's just for the easy cases...\n",
    "Not any more!\n",
    "\n",
    "We've added a feature to [DyNet](http://github.com/clab/dynet) that will transform the way you think about and run batching code.\n",
    "The gist of it is: you aggregate a large enough computation graph to make batching possible. DyNet figures out\n",
    "the rest, and does the batching for you.\n",
    "\n",
    "<img src=\"imgs/autobatch.gif\" alt=\"An Example of Autobatching\" style=\"width: 650px;\"/>\n",
    "\n",
    "In what follows, we show some examples of non-batched DyNet code, and then move on to show the batched version.\n",
    "\n",
    "In order to enable auto-batching support, simply add `--dynet-autobatch 1` to the commandline flags when running a DyNet program. Check out the [paper](https://arxiv.org/abs/1705.07860) or read on for more details!"
   ]
  },
  {
   "cell_type": "markdown",
   "metadata": {},
   "source": [
    "## Dynamic Graphs, Non-batched\n",
    "\n",
    "Let's look at some examples of non-batched code, and how simple they are to write in DyNet.\n",
    "\n",
    "Our first example will be an **acceptor LSTM**, that reads in a sequence of vectors, passes the final vector through a linear layer followed by a softmax, and produces an output."
   ]
  },
  {
   "cell_type": "code",
   "execution_count": 1,
   "metadata": {
    "collapsed": true
   },
   "outputs": [],
   "source": [
    "import dynet as dy\n",
    "import numpy as np"
   ]
  },
  {
   "cell_type": "code",
   "execution_count": 2,
   "metadata": {
    "collapsed": true
   },
   "outputs": [],
   "source": [
    "# acceptor LSTM\n",
    "class LstmAcceptor(object):\n",
    "    def __init__(self, in_dim, lstm_dim, out_dim, model):\n",
    "        self.builder = dy.VanillaLSTMBuilder(1, in_dim, lstm_dim, model)\n",
    "        self.W       = model.add_parameters((out_dim, lstm_dim))\n",
    "    \n",
    "    def __call__(self, sequence):\n",
    "        lstm = self.builder.initial_state()\n",
    "        W = self.W.expr() # convert the parameter into an Expession (add it to graph)\n",
    "        outputs = lstm.transduce(sequence)\n",
    "        result = W*outputs[-1]\n",
    "        return result\n"
   ]
  },
  {
   "cell_type": "code",
   "execution_count": 3,
   "metadata": {},
   "outputs": [
    {
     "name": "stdout",
     "output_type": "stream",
     "text": [
      "[ 1.1042192]\n",
      "[ 1.03213656]\n",
      "[ 0.97442627]\n",
      "[ 0.91803074]\n",
      "[ 0.86030102]\n",
      "[ 0.79953943]\n",
      "[ 0.73457642]\n",
      "[ 0.66490026]\n",
      "[ 0.59101043]\n",
      "[ 0.51482052]\n",
      "\n",
      "\n",
      "Prediction time!\n",
      "\n",
      "1 [ 0.06114297  0.75843614  0.18042086]\n",
      "1 [ 0.25732863  0.37167525  0.37099609]\n",
      "1 [ 0.1679846   0.61701268  0.21500272]\n"
     ]
    }
   ],
   "source": [
    "# usage:\n",
    "VOCAB_SIZE = 1000\n",
    "EMBED_SIZE = 100\n",
    "\n",
    "m = dy.Model()\n",
    "trainer = dy.AdamTrainer(m)\n",
    "embeds = m.add_lookup_parameters((VOCAB_SIZE, EMBED_SIZE))\n",
    "acceptor = LstmAcceptor(EMBED_SIZE, 100, 3, m)\n",
    "\n",
    "\n",
    "# training code\n",
    "sum_of_losses = 0.0\n",
    "for epoch in range(10):\n",
    "    for sequence,label in [((1,4,5,1),1), ((42,1),2), ((56,2,17),1)]:\n",
    "        dy.renew_cg() # new computation graph\n",
    "        vecs = [embeds[i] for i in sequence]\n",
    "        preds = acceptor(vecs)\n",
    "        loss = dy.pickneglogsoftmax(preds, label)\n",
    "        sum_of_losses += loss.npvalue()\n",
    "        loss.backward()\n",
    "        trainer.update()\n",
    "    print sum_of_losses / 3\n",
    "    sum_of_losses = 0.0\n",
    "        \n",
    "print \"\\n\\nPrediction time!\\n\"\n",
    "# prediction code:\n",
    "for sequence in [(1,4,12,1), (42,2), (56,2,17)]:\n",
    "    dy.renew_cg() # new computation graph\n",
    "    vecs = [embeds[i] for i in sequence]\n",
    "    preds = dy.softmax(acceptor(vecs))\n",
    "    vals  = preds.npvalue()\n",
    "    print np.argmax(vals), vals\n",
    "    \n",
    "\n",
    "    \n"
   ]
  },
  {
   "cell_type": "markdown",
   "metadata": {},
   "source": [
    "---\n",
    "This was simple. Notice how each sequence has a different length, but its OK, the `LstmAcceptor` doesn't care.\n",
    "We create a new graph for each example, at exactly the desired length.\n",
    "\n",
    "Similar to the `LstmAcceptor`, we could also write a `TreeRNN` that gets as input a tree structure and encodes it as a vector. Note that the code below is missing the support code for rerpesenting binary trees and reading trees from bracketed notation. All of these, along with the more sophisticated `TreeLSTM` version, and the training code, can be found [here](https://github.com/neulab/dynet-benchmark/blob/master/dynet-py/treenn.py)."
   ]
  },
  {
   "cell_type": "code",
   "execution_count": 6,
   "metadata": {
    "collapsed": true
   },
   "outputs": [],
   "source": [
    "class TreeRNN(object):\n",
    "    def __init__(self, model, word_vocab, hdim):\n",
    "        self.W = model.add_parameters((hdim, 2*hdim))\n",
    "        self.E = model.add_lookup_parameters((len(word_vocab),hdim))\n",
    "        self.w2i = word_vocab\n",
    "\n",
    "    def __call__(self, tree): return self.expr_for_tree(tree)\n",
    "    \n",
    "    def expr_for_tree(self, tree):\n",
    "        if tree.isleaf():\n",
    "            return self.E[self.w2i.get(tree.label,0)]\n",
    "        if len(tree.children) == 1:\n",
    "            assert(tree.children[0].isleaf())\n",
    "            expr = self.expr_for_tree(tree.children[0])\n",
    "            return expr\n",
    "        assert(len(tree.children) == 2),tree.children[0]\n",
    "        e1 = self.expr_for_tree(tree.children[0], decorate)\n",
    "        e2 = self.expr_for_tree(tree.children[1], decorate)\n",
    "        W = dy.parameter(self.W)\n",
    "        expr = dy.tanh(W*dy.concatenate([e1,e2]))\n",
    "        return expr"
   ]
  },
  {
   "cell_type": "markdown",
   "metadata": {},
   "source": [
    "## Enter batching\n",
    "\n",
    "Now, let's add some minibatching support. The way we go about it is very simple:\n",
    "Your only responsibility, as a programmer, is to **build a computation graph with enough material to make batching possible** (i.e., so there is something to batch). DyNet will take care of the rest.\n",
    "\n",
    "Here is the training and prediction code from before, this time writen with batching support.\n",
    "Notice how the `LstmAcceptor` did not change, we just aggregate the loss around it."
   ]
  },
  {
   "cell_type": "code",
   "execution_count": 5,
   "metadata": {},
   "outputs": [
    {
     "name": "stdout",
     "output_type": "stream",
     "text": [
      "[ 0.46247479]\n",
      "[ 0.43548316]\n",
      "[ 0.40905878]\n",
      "[ 0.38335174]\n",
      "[ 0.35849127]\n",
      "[ 0.3345806]\n",
      "[ 0.31169581]\n",
      "[ 0.28988609]\n",
      "[ 0.26917794]\n",
      "[ 0.24957809]\n",
      "\n",
      "\n",
      "Prediction time!\n",
      "\n",
      "1 [ 0.00736407  0.95775431  0.03488157]\n",
      "2 [ 0.2252606   0.36341026  0.41132909]\n",
      "1 [ 0.05491769  0.85925961  0.08582276]\n"
     ]
    }
   ],
   "source": [
    "# training code: batched.\n",
    "for epoch in range(10):\n",
    "    dy.renew_cg()     # we create a new computation graph for the epoch, not each item.\n",
    "    # we will treat all these 3 datapoints as a single batch\n",
    "    losses = []\n",
    "    for sequence,label in [((1,4,5,1),1), ((42,1),2), ((56,2,17),1)]:\n",
    "        vecs = [embeds[i] for i in sequence]\n",
    "        preds = acceptor(vecs)\n",
    "        loss = dy.pickneglogsoftmax(preds, label)\n",
    "        losses.append(loss)\n",
    "    # we accumulated the losses from all the batch.\n",
    "    # Now we sum them, and do forward-backward as usual.\n",
    "    # Things will run with efficient batch operations.\n",
    "    batch_loss = dy.esum(losses)/3\n",
    "    print batch_loss.npvalue() # this calls forward on the batch\n",
    "    batch_loss.backward()\n",
    "    trainer.update()\n",
    "   \n",
    "print \"\\n\\nPrediction time!\\n\"\n",
    "# prediction code:\n",
    "dy.renew_cg() # new computation graph\n",
    "batch_preds = []\n",
    "for sequence in [(1,4,12,1), (42,2), (56,2,17)]:\n",
    "    vecs = [embeds[i] for i in sequence]\n",
    "    preds = dy.softmax(acceptor(vecs))\n",
    "    batch_preds.append(preds)\n",
    "\n",
    "# now that we accumulated the prediction expressions,\n",
    "# we run forward on all of them:\n",
    "dy.forward(batch_preds)\n",
    "# and now we can efficiently access the individual values:\n",
    "for preds in batch_preds:\n",
    "    vals  = preds.npvalue()\n",
    "    print np.argmax(vals), vals"
   ]
  },
  {
   "cell_type": "markdown",
   "metadata": {},
   "source": [
    "----\n",
    "Doing the same thing for the TreeRNN example is trivial: just aggregate the expressions from several trees, and then call forward. (In fact, you may receive a small boost from the auto-batching feature also within a single tree, as some computation can be batched there also.)\n",
    "\n",
    "## Comparison to manual batching\n",
    "We compared the speed of automatic-batching as shown above to a manualy crafted batching code, in a setting in which manual-batching excels: BiLSTM tagging where all the sentences are of the exact same length. Here, automatic batching improved the per-sentence computation time from 193ms to 16.9ms on CPU and 54.6ms to 5.03ms on GPU, resulting in an approximately 11-fold increase in sentences processed per second (5.17->59.3 on CPU and 18.3->198 on GPU).\n",
    "However, manual batching is still 1.27 times faster on CPU, and 1.76 times faster on a GPU. \n",
    "\n",
    "The speed in favor of manual batching seem to come mostly from the time it takes to create the computation graph itself: in manual batching we are creating a single graph with many inputs, while with automatic batching we essentially build many copies of the same graph for each batch. Should you use manual batching then? In situations in which it is very natural, like in this artificial one, sure! But in cases where manual batching is not so trivial (which is most cases, see some examples below), go ahead and use the automatic version. It works.\n",
    "\n",
    "You can also run automatic batching on top of manually batched code. When doing this, we observe another 10% speed increase above the manual batched code, when running on the GPU. This is because the autobatching engine managed to find and exploit some additional batching opportunities. On the CPU, we did not observe any gains in this setting, but also did not observe any losses."
   ]
  },
  {
   "cell_type": "markdown",
   "metadata": {},
   "source": [
    "## How big is the win?\n",
    "\n",
    "So the examples above are rather simple, but how does this help on actual applications? We've run some experiments on several natural language processing tasks including POS tagging with bidirectional LSTMs, POS tagging with BiLSTMs that also have character embeddings (which is harder to batch), tree-structured neural networks, and a full-scale transition-based dependency parser. Each of these has a batch size of 64 sentences at a time, without worrying about length balancing or anything of that sort. As you can see from the results below on sentences/second, auto-batching gives you healthy gains of 3x to 9x over no auto-batching. This is with basically no effort required!"
   ]
  },
  {
   "cell_type": "markdown",
   "metadata": {},
   "source": [
    "| Task              | No Autobatch (CPU) | Autobatch (CPU) | No Autobatch (GPU) | Autobatch (GPU) |\n",
    "|-------------------|--------------------|-----------------|--------------------|-----------------|\n",
    "| BiLSTM            | 16.8 | 156  | 56.2 | 367  |\n",
    "| BiLSTM w/ char    | 15.7 | 132  | 43.2 | 275  |\n",
    "| TreeNN            | 50.2 | 357  | 76.5 | 661  |\n",
    "| Transition Parser | 16.8 | 61.2 | 33.0 | 90.1 |"
   ]
  },
  {
   "cell_type": "markdown",
   "metadata": {},
   "source": [
    "If you want to try these benchmarks yourself, take a look at the `...-bulk` programs in the [dynet-benchmark](http://github.com/neulab/dynet-benchmark) repository."
   ]
  },
  {
   "cell_type": "markdown",
   "metadata": {},
   "source": [
    "In the graph below you can see the number of sentences/second for training the transition-based parser with various batch sizes, on the GPU, CPU, and CPU witk MKL enabled:\n",
    "\n",
    "<img src=\"imgs/bist-autobatch-speed.png\" alt=\"Autobatching Speed in Various Batch Sizes\" style=\"width: 600px;\"/>\n",
    "\n",
    "The following graph shows the number of sentences/second for the Tree-LSTM model for various batch sizes, and also compares to TensorFlow Fold implementation, which is another proposed solution for batching hard-to-batch architectures. Note that DyNet autobatching comfortably wins over TensorFlow fold for both GPU and CPU, with CPU being more efficient than GPU for smaller sized batches.\n",
    "\n",
    "<img src=\"imgs/treelstm-autobatch-speed.png\" alt=\"Autobatching Speed in Various Batch Sizes\" style=\"width: 600px;\"/>\n",
    "\n",
    "\n",
    "\n"
   ]
  },
  {
   "cell_type": "markdown",
   "metadata": {},
   "source": [
    "## Miscellaneous tips\n",
    "\n",
    "### Should you always use batching?\n",
    "\n",
    "It depends. In prediction time, batching is a pure win in terms of speed. In training time, the sentences/second throughput will be much better---but you will also have less parameter updates, which may make overall training slower. Experiment with different batch sizes to find a good tradeoff between the two.\n",
    "\n",
    "### Length-balanced batches?\n",
    "\n",
    "It is common knowledge when writing batched code that one should arrange the batches such that all examples within the batch are of the same size.\n",
    "This is crucial for static frameworks and manual batching, as it reduces the need for padding, masking and so on.\n",
    "In our framework, this is not needed. However, you may still win some speed by having relatively-balanced batches,\n",
    "because more batching opportunities will become available.\n",
    "\n",
    "\n",
    "### Tips for effective autobatching\n",
    "\n",
    "As we said above, our only rule is \"create a graph with enough material for the autobatcher to work with\".\n",
    "In other words, it means delaying the call to `forward()` (or to `value()`, `npvalue()`, `scalar_value()`...) as much as possible. Beyond that, things should be transparent.\n",
    "\n",
    "However, knowing some technicalities of DyNet and how `forward` works can help you avoid some pitfals. So here is a brief overview:\n",
    "\n",
    "1. The core building block of dynet are `Expression` objects. Whenever you create a new `Expression`, you extend the computation graph. \n",
    "\n",
    "2. Creating an `Expression` does not entail a forward computation. We only evaluate the graph when specifically asked for it.\n",
    "\n",
    "3. Calls to `e.forward()`, `e.value()`, `e.npvalue()`, `e.scalar_value()`, will run forward computation **up to that expression**, and return a value.\n",
    "\n",
    "4. These calls will compute all the expressions that were added to the graph before `e`. These intermediary results will be cached.\n",
    "\n",
    "5. Asking for values for (or calling forward on) earlier expressions, will reuse the cached values.\n",
    "\n",
    "6. You can extend the graph further after calling forward. Later calls will compute the graph delta.\n",
    "\n",
    "So, based on this knowledge, here is the rule:\n",
    "\n",
    "If you created several expressions, and want to get the values for them, call forward on the **last** expression first, and then on the previous ones.\n",
    "\n",
    "Doing it the other way around (evaluting the expressions in the order they were created) will hinder batching possibilities, because it will compute only a small incremental part of forward for each expression. On the other hand, if you run forward on the last expression first, the entire computation will happen in one chunk, batching when possible. Getting calling `npvalue()` on the earlier expressions will then return the already computed values.  \n",
    "\n",
    "If you created a bunch of expressions and are not sure which one is the latest, you could just call the special `list` version of forward:\n",
    "```\n",
    "dy.forward([e1,e2,...,en])\n",
    "```\n",
    "and it will figure it out for you."
   ]
  },
  {
   "cell_type": "markdown",
   "metadata": {},
   "source": [
    "## Loose ends\n",
    "\n",
    "Auto-batching in DyNet works and is stable. However, some of the less common operations are not yet batched. If you have an example where you think you should be getting a nice boost from autobatching but you don't, it is most likely that you are using a non-batched operation. In any case, let us know via an issue in github, and we'll investigate this."
   ]
  },
  {
   "cell_type": "code",
   "execution_count": null,
   "metadata": {
    "collapsed": true
   },
   "outputs": [],
   "source": []
  }
 ],
 "metadata": {
  "kernelspec": {
   "display_name": "Python 2",
   "language": "python",
   "name": "python2"
  },
  "language_info": {
   "codemirror_mode": {
    "name": "ipython",
    "version": 2
   },
   "file_extension": ".py",
   "mimetype": "text/x-python",
   "name": "python",
   "nbconvert_exporter": "python",
   "pygments_lexer": "ipython2",
   "version": "2.7.13"
  }
 },
 "nbformat": 4,
 "nbformat_minor": 1
}
